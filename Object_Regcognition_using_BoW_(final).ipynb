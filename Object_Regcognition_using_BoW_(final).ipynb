{
  "cells": [
    {
      "cell_type": "markdown",
      "metadata": {
        "id": "view-in-github",
        "colab_type": "text"
      },
      "source": [
        "<a href=\"https://colab.research.google.com/github/anh1811/imageprocessing/blob/master/Object_Regcognition_using_BoW_(final).ipynb\" target=\"_parent\"><img src=\"https://colab.research.google.com/assets/colab-badge.svg\" alt=\"Open In Colab\"/></a>"
      ]
    },
    {
      "cell_type": "code",
      "execution_count": null,
      "metadata": {
        "id": "N_F6w_Xrz3eo"
      },
      "outputs": [],
      "source": [
        "import tensorflow as tf\n",
        "import cv2\n",
        "import matplotlib.pyplot as plt \n",
        "import numpy as np\n",
        "from scipy.cluster.vq import *\n",
        "import tensorflow_datasets as tfds\n",
        "import sklearn\n",
        "import pandas as pd\n",
        "from sklearn.svm import LinearSVC, SVC\n",
        "from sklearn.metrics import accuracy_score"
      ]
    },
    {
      "cell_type": "code",
      "execution_count": null,
      "metadata": {
        "colab": {
          "base_uri": "https://localhost:8080/",
          "height": 351
        },
        "id": "HqvWSn133B84",
        "outputId": "3748a6bc-dfe3-4f37-bf2c-cc8f781d6c7e"
      },
      "outputs": [
        {
          "name": "stdout",
          "output_type": "stream",
          "text": [
            "Looking in indexes: https://pypi.org/simple, https://us-python.pkg.dev/colab-wheels/public/simple/\n",
            "Collecting opencv-python==4.5.5.64\n",
            "  Downloading opencv_python-4.5.5.64-cp36-abi3-manylinux_2_17_x86_64.manylinux2014_x86_64.whl (60.5 MB)\n",
            "\u001b[K     |████████████████████████████████| 60.5 MB 1.2 MB/s \n",
            "\u001b[?25hRequirement already satisfied: numpy>=1.14.5 in /usr/local/lib/python3.7/dist-packages (from opencv-python==4.5.5.64) (1.21.6)\n",
            "Installing collected packages: opencv-python\n",
            "  Attempting uninstall: opencv-python\n",
            "    Found existing installation: opencv-python 4.1.2.30\n",
            "    Uninstalling opencv-python-4.1.2.30:\n",
            "      Successfully uninstalled opencv-python-4.1.2.30\n",
            "\u001b[31mERROR: pip's dependency resolver does not currently take into account all the packages that are installed. This behaviour is the source of the following dependency conflicts.\n",
            "albumentations 0.1.12 requires imgaug<0.2.7,>=0.2.5, but you have imgaug 0.2.9 which is incompatible.\u001b[0m\n",
            "Successfully installed opencv-python-4.5.5.64\n"
          ]
        },
        {
          "data": {
            "application/vnd.colab-display-data+json": {
              "pip_warning": {
                "packages": [
                  "cv2"
                ]
              }
            }
          },
          "metadata": {},
          "output_type": "display_data"
        }
      ],
      "source": [
        "#run this if you're new\n",
        "!pip install opencv-python==4.5.5.64"
      ]
    },
    {
      "cell_type": "markdown",
      "metadata": {
        "id": "bKJJnTYk0Gwa"
      },
      "source": [
        "#Dataset\n",
        "\n"
      ]
    },
    {
      "cell_type": "markdown",
      "metadata": {
        "id": "6Tfz7ySKolbI"
      },
      "source": [
        "Dataset toàn ảnh -> SIFT (bộ tách đặc trưng) SURF -> keypoints ---> BOW (FLann / K-means tree, SIFT), độ lớn của từ điển ---> tạo các vector có độ dài N-clusster -> Thuật toán phân loại (KNN, Vector support machine, ..) -> hyperparameters để lựa chọn -> K_fold crossvalidation -> kết quả ảnh đấy chứa object gì "
      ]
    },
    {
      "cell_type": "markdown",
      "metadata": {
        "id": "o5b0OHAVgPut"
      },
      "source": [
        "Dataset sử dụng là coil100: 7200 tấm ảnh và 100 object"
      ]
    },
    {
      "cell_type": "code",
      "execution_count": null,
      "metadata": {
        "colab": {
          "background_save": true,
          "referenced_widgets": [
            "06d2b5adc9ff48a08cad3c22b52bfb3f",
            "c0ec35b7dd1b41f292418ed4142fdaf6",
            "4fc9886bb4a64784bd21394b9322f127",
            "5f2475ccb76b4518beafc0507d9e85b2",
            "7417d23e58a14027ade992c15c2672ee"
          ]
        },
        "id": "Vz6S9CV1UW2W",
        "outputId": "a5ce692f-418e-4580-de49-70630dcd134a"
      },
      "outputs": [
        {
          "name": "stdout",
          "output_type": "stream",
          "text": [
            "\u001b[1mDownloading and preparing dataset coil100/1.0.0 (download: 124.63 MiB, generated: Unknown size, total: 124.63 MiB) to /root/tensorflow_datasets/coil100/1.0.0...\u001b[0m\n"
          ]
        },
        {
          "data": {
            "application/vnd.jupyter.widget-view+json": {
              "model_id": "06d2b5adc9ff48a08cad3c22b52bfb3f",
              "version_major": 2,
              "version_minor": 0
            },
            "text/plain": [
              "Dl Completed...: 0 url [00:00, ? url/s]"
            ]
          },
          "metadata": {},
          "output_type": "display_data"
        },
        {
          "data": {
            "application/vnd.jupyter.widget-view+json": {
              "model_id": "c0ec35b7dd1b41f292418ed4142fdaf6",
              "version_major": 2,
              "version_minor": 0
            },
            "text/plain": [
              "Dl Size...: 0 MiB [00:00, ? MiB/s]"
            ]
          },
          "metadata": {},
          "output_type": "display_data"
        },
        {
          "data": {
            "application/vnd.jupyter.widget-view+json": {
              "model_id": "4fc9886bb4a64784bd21394b9322f127",
              "version_major": 2,
              "version_minor": 0
            },
            "text/plain": [
              "Extraction completed...: 0 file [00:00, ? file/s]"
            ]
          },
          "metadata": {},
          "output_type": "display_data"
        },
        {
          "name": "stdout",
          "output_type": "stream",
          "text": [
            "\n",
            "\n",
            "\n"
          ]
        },
        {
          "data": {
            "application/vnd.jupyter.widget-view+json": {
              "model_id": "5f2475ccb76b4518beafc0507d9e85b2",
              "version_major": 2,
              "version_minor": 0
            },
            "text/plain": [
              "0 examples [00:00, ? examples/s]"
            ]
          },
          "metadata": {},
          "output_type": "display_data"
        },
        {
          "name": "stdout",
          "output_type": "stream",
          "text": [
            "Shuffling and writing examples to /root/tensorflow_datasets/coil100/1.0.0.incompleteJ0F6KF/coil100-train.tfrecord\n"
          ]
        },
        {
          "data": {
            "application/vnd.jupyter.widget-view+json": {
              "model_id": "7417d23e58a14027ade992c15c2672ee",
              "version_major": 2,
              "version_minor": 0
            },
            "text/plain": [
              "  0%|          | 0/7200 [00:00<?, ? examples/s]"
            ]
          },
          "metadata": {},
          "output_type": "display_data"
        },
        {
          "name": "stdout",
          "output_type": "stream",
          "text": [
            "\u001b[1mDataset coil100 downloaded and prepared to /root/tensorflow_datasets/coil100/1.0.0. Subsequent calls will reuse this data.\u001b[0m\n"
          ]
        }
      ],
      "source": [
        "# một dataset lưu dưới dạng dictionary gồm các trường 'image', 'label'\n",
        "#tfds -> tensorflow dataset\n",
        "dataset = tfds.load(name = 'coil100')"
      ]
    },
    {
      "cell_type": "code",
      "execution_count": null,
      "metadata": {
        "colab": {
          "background_save": true
        },
        "id": "r2XyO8bDFE5t"
      },
      "outputs": [],
      "source": [
        "# shuffle dữ liệu 1000 lần\n",
        "#các dữ liệu dược lưu dưới dạng dạng tf. tensor của tensorflow --> chuyển đổi sang numpy\n",
        "#shuffle dataset\n",
        "ds = dataset[\"train\"].shuffle(1000).prefetch(1)\n",
        "x_train, y_train = [], []\n",
        "#tập huấn luyện \n",
        "for item in ds:\n",
        "  x_train.append(item[\"image\"].numpy())\n",
        "  y_train.append(int(item[\"object_id\"].numpy().decode(\"utf-8\")[3:]) -1)"
      ]
    },
    {
      "cell_type": "code",
      "execution_count": null,
      "metadata": {
        "id": "QsPu1McO1qXe"
      },
      "outputs": [],
      "source": [
        "# 1500 dữ liệu test/ 5700 dữ liệu train\n",
        "from sklearn.model_selection import train_test_split\n",
        "x_train, x_test, y_train, y_test = train_test_split(x_train, y_train, test_size = 0.2, random_state = 42)"
      ]
    },
    {
      "cell_type": "markdown",
      "metadata": {
        "id": "vvuF6LEh2QPB"
      },
      "source": [
        "# Bag of Words "
      ]
    },
    {
      "cell_type": "markdown",
      "metadata": {
        "id": "BjoKGaSx6I11"
      },
      "source": [
        ""
      ]
    },
    {
      "cell_type": "markdown",
      "metadata": {
        "id": "75y2afM19m2L"
      },
      "source": [
        "\n",
        "    keypoints The detected keypoints. A 1-by-N structure array with the following fields:\n",
        "        pt coordinates of the keypoint [x,y]\n",
        "        size diameter of the meaningful keypoint neighborhood\n",
        "        angle computed orientation of the keypoint (-1 if not applicable); it's in [0,360) degrees and measured relative to image coordinate system (y-axis is directed downward), i.e in clockwise.\n",
        "        response the response by which the most strong keypoints have been selected. Can be used for further sorting or subsampling.\n",
        "        octave octave (pyramid layer) from which the keypoint has been extracted.\n",
        "        class_id object class (if the keypoints need to be clustered by an object they belong to)."
      ]
    },
    {
      "cell_type": "code",
      "execution_count": null,
      "metadata": {
        "id": "ZyEbUVfpUktK"
      },
      "outputs": [],
      "source": [
        "def create_gray_dataset(X,y):\n",
        "  x_gray = list()\n",
        "  y_gray = list()\n",
        "  sift = cv2.SIFT_create()\n",
        "  kps, des_set = [], []\n",
        "  for i, img in enumerate(X):\n",
        "    img = cv2.cvtColor(img,cv2.COLOR_BGR2GRAY)\n",
        "    key, des = sift.detectAndCompute(img, None) \n",
        "    if des is not None:\n",
        "      x_gray.append(img)\n",
        "      y_gray.append(y[i])\n",
        "      kps.append(key)\n",
        "      des_set.extend(np.array(des))\n",
        "  return np.array(x_gray), np.array(y_gray).reshape(-1), kps, np.array(des_set)"
      ]
    },
    {
      "cell_type": "code",
      "execution_count": null,
      "metadata": {
        "id": "gF8EIfgm6kJ6"
      },
      "outputs": [],
      "source": [
        "x_gray_train, y_gray_train, kps, descriptors = create_gray_dataset(x_train,y_train)\n",
        "x_gray_test, y_gray_test, kps_test, des_set_test = create_gray_dataset(x_test, y_test)\n",
        "# x_gray_train = set(x_gray_train)"
      ]
    },
    {
      "cell_type": "code",
      "execution_count": null,
      "metadata": {
        "colab": {
          "base_uri": "https://localhost:8080/",
          "height": 285
        },
        "id": "A_KzFXqJiw6L",
        "outputId": "dbdcf40a-31c5-4769-9048-ee3826bbbe86"
      },
      "outputs": [
        {
          "data": {
            "text/plain": [
              "60"
            ]
          },
          "execution_count": 73,
          "metadata": {},
          "output_type": "execute_result"
        },
        {
          "data": {
            "image/png": "[encoded data removed]",
            "text/plain": [
              "<Figure size 432x288 with 1 Axes>"
            ]
          },
          "metadata": {},
          "output_type": "display_data"
        }
      ],
      "source": [
        "# sift = cv2.SIFT_create()\n",
        "# img = cv2.cvtColor(x_train[0], cv2.COLOR_BGR2GRAY)\n",
        "# key, des = sift.detectAndCompute(img, None)\n",
        "# output_image = cv2.drawKeypoints(img, key, 0, (255, 0, 0),\n",
        "#                                  flags=cv2.DRAW_MATCHES_FLAGS_DRAW_RICH_KEYPOINTS)\n",
        "# plt.imshow(output_image)\n",
        "# len(key)"
      ]
    },
    {
      "cell_type": "code",
      "execution_count": null,
      "metadata": {
        "colab": {
          "base_uri": "https://localhost:8080/"
        },
        "id": "3KVrnE4TmChA",
        "outputId": "48f66779-ee80-419b-d4a9-a492ab730e42"
      },
      "outputs": [
        {
          "data": {
            "text/plain": [
              "(219934, 128)"
            ]
          },
          "execution_count": 101,
          "metadata": {},
          "output_type": "execute_result"
        }
      ],
      "source": [
        "descriptors.shape"
      ]
    },
    {
      "cell_type": "code",
      "execution_count": null,
      "metadata": {
        "id": "jwR-8SLb6anq"
      },
      "outputs": [],
      "source": [
        "flann_params = dict(algorithm = 1, trees = 5)\n",
        "flann =cv2.FlannBasedMatcher(flann_params, {})\n",
        "\n",
        "sift = cv2.SIFT_create()"
      ]
    },
    {
      "cell_type": "code",
      "execution_count": null,
      "metadata": {
        "id": "fGvnykk77N07"
      },
      "outputs": [],
      "source": [
        "def create_BOW(sift, flann):\n",
        "  bow_kmeans_trainer = cv2.BOWKMeansTrainer(600) \n",
        "  extract_bow = cv2.BOWImgDescriptorExtractor(sift, flann) \n",
        "  vocab = bow_kmeans_trainer.cluster(descriptors)\n",
        "  extract_bow.setVocabulary(vocab)\n",
        "  return extract_bow\n",
        "\n",
        "extract_bow = create_BOW(sift,flann)"
      ]
    },
    {
      "cell_type": "code",
      "execution_count": null,
      "metadata": {
        "id": "2ukxlaOQ-Osr"
      },
      "outputs": [],
      "source": [
        "# tạo bộ dữ liệu với extrac_bow -> descriptor cho mỗi ảnh \n",
        "# x_train -> giá trị pixel của mỗi ảnh -> thành vector 400 từ bow\n",
        "def create_traindata(extract_bow, x_gray_train, kps, tf_idf = True):\n",
        "  traindata, trainlabels = [], []\n",
        "  for i in range(len(x_gray_train)):\n",
        "    traindata.append(extract_bow.compute(x_gray_train[i], kps[i]).reshape([-1]))\n",
        "  traindata = np.array(traindata)\n",
        "  if tf_idf:\n",
        "    nbr_occurences = np.sum( (traindata > 0) * 1, axis = 0)\n",
        "    idf = np.array(np.log10((1.0*len(x_gray_train)+1) / (1.0*nbr_occurences + 1)), 'float32')\n",
        "    return traindata * idf, idf\n",
        "  else: return traindata, 1"
      ]
    },
    {
      "cell_type": "code",
      "execution_count": null,
      "metadata": {
        "id": "7fKK67QUH1_M"
      },
      "outputs": [],
      "source": [
        "traindata, idf  = create_traindata(extract_bow, x_gray_train, kps, tf_idf = True)"
      ]
    },
    {
      "cell_type": "code",
      "execution_count": null,
      "metadata": {
        "colab": {
          "base_uri": "https://localhost:8080/"
        },
        "id": "IpLnT5ABEJBe",
        "outputId": "c281233a-394c-49de-cb0b-126124e5c2d8"
      },
      "outputs": [
        {
          "data": {
            "text/plain": [
              "SVC(C=8.638787150282738, gamma=7.875101714101604)"
            ]
          },
          "execution_count": 113,
          "metadata": {},
          "output_type": "execute_result"
        }
      ],
      "source": [
        "svm_clf = SVC(C=8.638787150282738, gamma= 7.875101714101604)\n",
        "svm_clf.fit(np.array(traindata), y_gray_train)"
      ]
    },
    {
      "cell_type": "code",
      "execution_count": null,
      "metadata": {
        "id": "Vv7WaIgMlm0D"
      },
      "outputs": [],
      "source": [
        "from sklearn.model_selection import RandomizedSearchCV\n",
        "from scipy.stats import reciprocal, uniform\n",
        "\n",
        "param_distributions = {\"gamma\": reciprocal(1,40), \"C\": uniform(0, 10)}\n",
        "rnd_search_cv = RandomizedSearchCV(svm_clf, param_distributions, n_iter=30, verbose=2, cv=10)\n",
        "rnd_search_cv.fit(traindata[:1000], y_gray_train[:1000])"
      ]
    },
    {
      "cell_type": "code",
      "execution_count": null,
      "metadata": {
        "colab": {
          "base_uri": "https://localhost:8080/"
        },
        "id": "2HvooBBxlytJ",
        "outputId": "6f081469-c339-4831-ee70-21fd72da4773"
      },
      "outputs": [
        {
          "data": {
            "text/plain": [
              "0.766"
            ]
          },
          "execution_count": 179,
          "metadata": {},
          "output_type": "execute_result"
        }
      ],
      "source": [
        "rnd_search_cv.best_score_"
      ]
    },
    {
      "cell_type": "code",
      "execution_count": null,
      "metadata": {
        "colab": {
          "base_uri": "https://localhost:8080/"
        },
        "id": "BMTZ3KW8l6Rz",
        "outputId": "24e19b12-36a0-4bda-cdfe-30195f4e5fe3"
      },
      "outputs": [
        {
          "data": {
            "text/plain": [
              "SVC(C=8.638787150282738, gamma=7.875101714101604)"
            ]
          },
          "execution_count": 180,
          "metadata": {},
          "output_type": "execute_result"
        }
      ],
      "source": [
        "rnd_search_cv.best_estimator_.fit(np.array(traindata), np.array(y_gray_train).reshape(-1))"
      ]
    },
    {
      "cell_type": "code",
      "execution_count": null,
      "metadata": {
        "id": "ReCkXXykp5qv"
      },
      "outputs": [],
      "source": [
        "def predict(fn, extract_bow, key):  \n",
        "  f = extract_bow.compute(fn, key) * idf  \n",
        "  if f is not None:\n",
        "    # p = rnd_search_cv.best_estimator_.predict(f)\n",
        "    p = svm_clf.predict(f)\n",
        "  else:\n",
        "    return None  \n",
        "  return p"
      ]
    },
    {
      "cell_type": "code",
      "execution_count": null,
      "metadata": {
        "id": "mHI_Hzd5KRTa"
      },
      "outputs": [],
      "source": [
        "def accuracy(x_gray_test, y_gray_test, kps_test):\n",
        "  y_pred = []\n",
        "  for i in range(len(x_gray_test)):\n",
        "    y_pred.append(predict(x_gray_test[i], extract_bow, kps_test))\n",
        "  accuracy_score(y_gray_test, np.array(y_pred).reshape(-1))"
      ]
    },
    {
      "cell_type": "code",
      "execution_count": null,
      "metadata": {
        "id": "dA_ScYm4P1aP"
      },
      "outputs": [],
      "source": [
        "from sklearn.metrics import confusion_matrix\n",
        "from sklearn.metrics import classification_report\n",
        "from sklearn.metrics import ConfusionMatrixDisplay\n",
        "import matplotlib.pyplot as plt\n",
        "\n",
        "print()\n",
        "# Print classification_report:\n",
        "print('Classification_report:')\n",
        "print(classification_report(y_gray_test, y_pred))\n",
        "\n",
        "# ConfusionMatrixDisplay.from_predictions(np.array(y_gray_test).reshape(-1), np.array(y_pred).reshape(-1))\n",
        "# plt.show()"
      ]
    },
    {
      "cell_type": "code",
      "execution_count": null,
      "metadata": {
        "id": "IQ7KcncLFzOl"
      },
      "outputs": [],
      "source": [
        "import time\n",
        "from sklearn.model_selection import KFold\n",
        "def train(x_gray_train, y_gray_train, dic_size, cross_validation):\n",
        "  \n",
        "  bow_kmeans_trainer = cv2.BOWKMeansTrainer(dic_size)\n",
        "  extract_bow = cv2.BOWImgDescriptorExtractor(sift, flann)\n",
        "  \n",
        "  #bắt đầu tạo từ điển bằng phuowgn pháp k-means\n",
        "  start_time = time.time()\n",
        "  vocab = bow_kmeans_trainer.cluster(descriptors)\n",
        "  time_run = time.time() - start_time \n",
        "  \n",
        "  # đưa từ điền vào trong bow_kmeans_trainer\n",
        "  extract_bow.setVocabulary(vocab)\n",
        "  \n",
        "  traindata = []\n",
        "  for i in range(len(x_gray_train)):\n",
        "    traindata.append(extract_bow.compute(x_gray_train[i], kps[i]).reshape([-1]))\n",
        "  traindata = np.array(traindata)\n",
        "  if cross_validation:\n",
        "    kf = KFold(n_splits=4)\n",
        "    kf.get_n_splits(traindata)\n",
        "\n",
        "    acc_per_fold = list()\n",
        "    for train_index, test_index in kf.split(traindata):\n",
        "      X_train, X_test = traindata[train_index], traindata[test_index]\n",
        "      y_train, y_test = np.array(y_gray_train).reshape(-1)[train_index], np.array(y_gray_train).reshape(-1)[test_index]\n",
        "      \n",
        "      svm_clf = SVC(C=8.638787150282738, gamma=7.875101714101604)\n",
        "      svm_clf.fit(np.array(X_train), y_train)\n",
        "      y_pred = []\n",
        "      for i in range(len(y_test)):\n",
        "        y_pred.append(svm_clf.predict(X_test[i][np.newaxis,:]))\n",
        "      acc_per_fold.append(accuracy_score(np.array(y_test), np.array(y_pred).reshape(-1)))\n",
        "    \n",
        "    return time_run, sum(acc_per_fold)/len(acc_per_fold)\n",
        "  else: \n",
        "    y_pred = []\n",
        "    for i in range(len(x_gray_test)):\n",
        "        y_pred.append(predict(x_gray_test[i]))\n",
        "    return accuracy_score(np.array(y_gray_test).reshape(-1), np.array(y_pred).reshape(-1))\n",
        "\n",
        "k_list = [600,650,700]\n",
        "# k_list = [100,150]\n",
        "time_list = []\n",
        "acc_list = []\n",
        "for k in k_list:\n",
        "  time_run, acc =  train(k, True)\n",
        "  time_list.append(time_run)\n",
        "  acc_list.append(acc)\n"
      ]
    },
    {
      "cell_type": "code",
      "execution_count": null,
      "metadata": {
        "colab": {
          "base_uri": "https://localhost:8080/"
        },
        "id": "Cmtb5i3tCDes",
        "outputId": "54de9b79-614e-4a97-94ad-8819c7d5b216"
      },
      "outputs": [
        {
          "name": "stdout",
          "output_type": "stream",
          "text": [
            "[750.2964181900024, 837.3154561519623, 929.511946439743, 1017.1361055374146, 1107.3100645542145]\n",
            "[0.9484114429331757, 0.9577106741573034, 0.9543763552138774, 0.9522712152572442, 0.9591133205204021]\n"
          ]
        }
      ],
      "source": [
        "print(time_list)\n",
        "print(acc_list)"
      ]
    },
    {
      "cell_type": "code",
      "execution_count": null,
      "metadata": {
        "colab": {
          "base_uri": "https://localhost:8080/"
        },
        "id": "NwqHzX8aa8V0",
        "outputId": "d79cd399-5acd-4cb0-9208-016df1c3876d"
      },
      "outputs": [
        {
          "name": "stdout",
          "output_type": "stream",
          "text": [
            "[1162.5634388923645, 1173.8125321865082, 1263.8604974746704]\n",
            "[0.9570084269662921, 0.9587633057362508, 0.9577103045535187]\n"
          ]
        }
      ],
      "source": [
        "print(time_list)\n",
        "print(acc_list)"
      ]
    },
    {
      "cell_type": "code",
      "execution_count": null,
      "metadata": {
        "id": "Ku4dH1i7v8gt"
      },
      "outputs": [],
      "source": [
        "time_list = [750.2964181900024, 837.3154561519623, 929.511946439743, 1017.1361055374146, 1162.5634388923645, 1173.8125321865082, 1263.8604974746704]\n",
        "k_list = [400,450,500,550,600,650,700]\n",
        "acc_list = [0.9484114429331757, 0.9577106741573034, 0.9543763552138774, 0.9522712152572442, 0.9591133205204021, 0.9587633057362508, 0.9577103045535187]"
      ]
    },
    {
      "cell_type": "code",
      "execution_count": null,
      "metadata": {
        "colab": {
          "base_uri": "https://localhost:8080/",
          "height": 296
        },
        "id": "HYBmE3OIwTjO",
        "outputId": "104eb126-a1a6-426b-f73a-30dbf015bacc"
      },
      "outputs": [
        {
          "data": {
            "image/png": "[encoded data removed]",
            "text/plain": [
              "<Figure size 432x288 with 2 Axes>"
            ]
          },
          "metadata": {},
          "output_type": "display_data"
        },
        {
          "data": {
            "text/plain": [
              "<Figure size 1440x720 with 0 Axes>"
            ]
          },
          "metadata": {},
          "output_type": "display_data"
        }
      ],
      "source": [
        "from sklearn.metrics import confusion_matrix\n",
        "from sklearn.metrics import classification_report\n",
        "from sklearn.metrics import ConfusionMatrixDisplay\n",
        "import matplotlib.pyplot as plt\n",
        "\n",
        "fig, ax1 = plt.subplots()\n",
        "\n",
        "plt.figure(figsize=(20, 10))\n",
        "ax2 = ax1.twinx()\n",
        "ax1.plot(k_list, time_list, 'g-')\n",
        "ax2.plot(k_list, acc_list,  '-b')\n",
        "\n",
        "ax1.set_xlabel('K')\n",
        "ax1.set_ylabel('Time', color='g')\n",
        "ax2.set_ylabel('Accuracy', color='b')\n",
        "\n",
        "plt.show()\n"
      ]
    },
    {
      "cell_type": "code",
      "execution_count": null,
      "metadata": {
        "id": "qGSdToUxrSnb"
      },
      "outputs": [],
      "source": [
        "label = \"{0}\".format(y_train[0])\n",
        "img = cv2.putText(x_train[0], label, (0, 0),  cv2.FONT_HERSHEY_PLAIN, 1, [225,255,255], 2)\n",
        "plt.imshow()"
      ]
    }
  ],
  "metadata": {
    "accelerator": "GPU",
    "colab": {
      "collapsed_sections": [],
      "name": "Object Regcognition using BoW (final).ipynb",
      "provenance": [],
      "authorship_tag": "ABX9TyMciUgXXHA6jBX4S44rufrk",
      "include_colab_link": true
    },
    "gpuClass": "standard",
    "kernelspec": {
      "display_name": "Python 3",
      "name": "python3"
    },
    "language_info": {
      "name": "python"
    }
  },
  "nbformat": 4,
  "nbformat_minor": 0
}